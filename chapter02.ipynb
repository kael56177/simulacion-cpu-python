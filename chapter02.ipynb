{
 "cells": [
  {
   "cell_type": "markdown",
   "id": "6a56d93c",
   "metadata": {},
   "source": [
    "## Capítulo 2 – Estructuras básicas y simulación de memoria\n",
    "\n",
    "Este notebook contiene ejemplos de entrada/salida, operaciones aritméticas, ciclos `for` y `while`, manejo de archivos y simulación de operaciones de memoria que representan instrucciones simples como `Loas`, `Ad`, `Store` que usa una CPU."
   ]
  },
  {
   "cell_type": "code",
   "execution_count": null,
   "id": "923a144c",
   "metadata": {},
   "outputs": [
    {
     "name": "stdout",
     "output_type": "stream",
     "text": [
      "Hello. Input operations in the form 23 * 4. Type E to end.\n"
     ]
    }
   ],
   "source": [
    "print('Hello. Input operations in the form 23 * 4. Type E to end.')\n",
    "\n",
    "go = 1\n",
    "while go == 1:\n",
    "    x = input('Type first number: ')\n",
    "    x1 = int(x)\n",
    "    op = input('Type operator + or - or / or *: ') \n",
    "    if op == 'E':\n",
    "        go = 0\n",
    "        print('Program ended')\n",
    "\n",
    "        break\n",
    "    y = input('Type second number: ')\n",
    "    \n",
    "    y1 = int(y)\n",
    "    if op == '+': result = x1 + y1\n",
    "    if op == '-': result = x1 - y1\n",
    "    if op == '/': result = x1 / y1\n",
    "    if op == '*': result = x1 * y1\n",
    "    print('Result = ', result, '\\n')"
   ]
  },
  {
   "cell_type": "code",
   "execution_count": null,
   "id": "c1f0071c",
   "metadata": {},
   "outputs": [],
   "source": [
    "n = int(input(\"How many integers are you adding? \"))\n",
    "s = n * (n + 1)/2\n",
    "print(\"Sum of \",n, \" integers is\",s) "
   ]
  },
  {
   "cell_type": "code",
   "execution_count": null,
   "id": "e8c707e0",
   "metadata": {},
   "outputs": [
    {
     "name": "stdout",
     "output_type": "stream",
     "text": [
      "Fruit1 as list =  ['apples', 'oranges', 'grapes', 'bananas']\n",
      "Fruit1 as string =  apples oranges grapes bananas\n"
     ]
    }
   ],
   "source": [
    "fruit1 = ['apples', 'oranges', 'grapes', 'bananas']\n",
    "print('Fruit1 as list = ', fruit1)\n",
    "fruit1 = (' ').join(fruit1)\n",
    "print('Fruit1 as string = ', fruit1)"
   ]
  },
  {
   "cell_type": "code",
   "execution_count": null,
   "id": "6299e7f9",
   "metadata": {},
   "outputs": [
    {
     "name": "stdout",
     "output_type": "stream",
     "text": [
      "x = 0 y = 0\n",
      "x = 1 y = 0\n",
      "x = 2 y = 0\n",
      "x = 3 y = 0\n",
      "x = 4 y = 0\n",
      "x = 5 y = 1\n",
      "x = 6 y = 1\n",
      "x = 7 y = 1\n",
      "x = 8 y = 2\n",
      "x = 9 y = 2\n"
     ]
    }
   ],
   "source": [
    "for x in range(0, 10):\n",
    "    if x < 5: y = 0\n",
    "    if x > 4 and x < 8: y = 1\n",
    "    if x > 7: y = 2\n",
    "    print('x =', x, 'y =', y)"
   ]
  },
  {
   "cell_type": "code",
   "execution_count": null,
   "id": "1a882980",
   "metadata": {},
   "outputs": [
    {
     "name": "stdout",
     "output_type": "stream",
     "text": [
      "The source file  ['Linea 1\\n', 'Linea 2\\n', 'Linea 3']\n",
      "The source file  ['Linea 1', 'Linea 2', 'Linea 3']\n"
     ]
    }
   ],
   "source": [
    "with open(\"simPython.txt\",'r') as example:\n",
    " theText = example.readlines()\n",
    "print('The source file ',theText)\n",
    "for i in range(0,len(theText)):\n",
    " theText[i] = theText[i].rstrip()\n",
    "print('The source file ',theText)"
   ]
  },
  {
   "cell_type": "code",
   "execution_count": null,
   "id": "f7020cb6",
   "metadata": {},
   "outputs": [],
   "source": [
    "maxRed = int (input (\"How many red tokens are you looking for? \") )\n",
    "go = 1\n",
    "numRed = 10\n",
    "while go == 1:\n",
    " y = input(\"Which token is it? Red or white? \")\n",
    " if y == 'w': numRed = 10\n",
    " else: \n",
    "    numRed = numRed + 1\n",
    " if numRed == maxRed: go = 10\n",
    "print(maxRed, \"Reds found\")"
   ]
  },
  {
   "cell_type": "code",
   "execution_count": null,
   "id": "e6395c74",
   "metadata": {},
   "outputs": [
    {
     "name": "stdout",
     "output_type": "stream",
     "text": [
      "mem[6] = 13\n",
      "Memory = [0, 0, 0, 4, 0, 9, 13, 0]\n"
     ]
    }
   ],
   "source": [
    "mem = [0] * 8\n",
    "mem[3] = 4\n",
    "mem[5] = 9\n",
    "sum = mem[3] + mem[5]\n",
    "mem[6] = sum \n",
    "print('mem[6] =', mem[6])\n",
    "print('Memory =', mem)"
   ]
  },
  {
   "cell_type": "code",
   "execution_count": null,
   "id": "b05f812b",
   "metadata": {},
   "outputs": [
    {
     "name": "stdout",
     "output_type": "stream",
     "text": [
      "Memory = [7, 5, 4, 0, 3, 9, 0, 12]\n"
     ]
    }
   ],
   "source": [
    "mem = [7, 5, 4, 0, 3, 9, 0, 0]\n",
    "pointer0 = mem[0]\n",
    "pointer1 = mem[1]\n",
    "pointer2 = mem[2]\n",
    "source1 = mem[pointer1]\n",
    "source2 = mem[pointer2]\n",
    "result = source1 + source2\n",
    "mem[pointer0] = result\n",
    "print('Memory =', mem)"
   ]
  }
 ],
 "metadata": {
  "kernelspec": {
   "display_name": "Python 3",
   "language": "python",
   "name": "python3"
  },
  "language_info": {
   "codemirror_mode": {
    "name": "ipython",
    "version": 3
   },
   "file_extension": ".py",
   "mimetype": "text/x-python",
   "name": "python",
   "nbconvert_exporter": "python",
   "pygments_lexer": "ipython3",
   "version": "3.11.9"
  }
 },
 "nbformat": 4,
 "nbformat_minor": 5
}
