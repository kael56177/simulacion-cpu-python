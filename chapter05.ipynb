{
 "cells": [
  {
   "cell_type": "markdown",
   "id": "d0dd8a6a",
   "metadata": {},
   "source": [
    "##  Capítulo 05 – Estructuras de datos y archivos en Python\n",
    "\n",
    "Este ejemplo muestra cómo transformar cadenas para normalizarlas, cambiar símbolos y limpiar caracteres no deseados. Es útil en procesamiento de instrucciones tipo texto."
   ]
  }
 ],
 "metadata": {
  "kernelspec": {
   "display_name": "Python 3",
   "language": "python",
   "name": "python3"
  },
  "language_info": {
   "name": "python",
   "version": "3.11.9"
  }
 },
 "nbformat": 4,
 "nbformat_minor": 5
}
