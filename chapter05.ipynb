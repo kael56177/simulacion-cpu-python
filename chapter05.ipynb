{
 "cells": [
  {
   "cell_type": "markdown",
   "id": "d0dd8a6a",
   "metadata": {},
   "source": [
    "##  Capítulo 05 – Estructuras de datos y archivos en Python\n",
    "\n",
    "Este ejemplo muestra cómo transformar cadenas para normalizarlas, cambiar símbolos y limpiar caracteres no deseados. Es útil en procesamiento de instrucciones tipo texto."
   ]
  },
  {
   "cell_type": "code",
   "execution_count": 1,
   "id": "fbecd918",
   "metadata": {},
   "outputs": [
    {
     "name": "stdout",
     "output_type": "stream",
     "text": [
      "Precio antes del reemplazo:  huevos $2, queso $4\n",
      "Precio después del reemplazo:  huevos £2, queso £4\n",
      "x antes del reemplazo ###esto Es Una prueba???\n",
      "x después del reemplazo esto es una prueba\n"
     ]
    }
   ],
   "source": [
    "precio = 'huevos $2, queso $4'\n",
    "print('Precio antes del reemplazo: ', precio)\n",
    "# Imprime un valor en pantalla\n",
    "precio = precio.replace('$', '£')         # Reemplaza $ por £ en la cadena precio\n",
    "print('Precio después del reemplazo: ', precio)\n",
    "# Imprime un valor en pantalla\n",
    "x ='###esto Es Una prueba???'\n",
    "print ('x antes del reemplazo', x)\n",
    "# Bucle for para recorrer una lista o estructura\n",
    "x = x.lstrip('#')                       # Elimina los caracteres '#' a la izquierda\n",
    "x = x.rstrip('? ')                      # Elimina los caracteres '?' y espacios a la derecha\n",
    "x = x.lower()                           # Convierte a minúsculas\n",
    "print ('x después del reemplazo', x)"
   ]
  }
 ],
 "metadata": {
  "kernelspec": {
   "display_name": "Python 3",
   "language": "python",
   "name": "python3"
  },
  "language_info": {
   "codemirror_mode": {
    "name": "ipython",
    "version": 3
   },
   "file_extension": ".py",
   "mimetype": "text/x-python",
   "name": "python",
   "nbconvert_exporter": "python",
   "pygments_lexer": "ipython3",
   "version": "3.11.9"
  }
 },
 "nbformat": 4,
 "nbformat_minor": 5
}
