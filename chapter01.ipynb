{
 "cells": [
  {
   "cell_type": "markdown",
   "id": "e5545edc",
   "metadata": {},
   "source": [
    "## Detección de tres tokens consecutivos \"R\"\n",
    "\n",
    "Este programa simula la lectura secuencial de tokens. Se detiene cuando se detectan 3 tokens \"R\" seguidos, como una simulación de instrucciones ejecutadas en bucle por la CPU.\n"
   ]
  },
  {
   "cell_type": "code",
   "execution_count": null,
   "id": "a069e2b0",
   "metadata": {},
   "outputs": [],
   "source": [
    "Sequence =['W','R','R','W','R','W','W','W','W','R','W','W','R','R','R']\n",
    "numRed = 0\n",
    "maxRed = 3\n",
    "count = 0\n",
    "while numRed != maxRed:\n",
    " token = Sequence[count]\n",
    " if token == 'R':\n",
    "  numRed = numRed + 1\n",
    " else: numRed = 0\n",
    " print('count', count,'token',token,'numRed',numRed)\n",
    "\n",
    " count = count + 1\n",
    "print('Three reds found starting at location', count - 3)"
   ]
  }
 ],
 "metadata": {
  "kernelspec": {
   "display_name": "Python 3",
   "language": "python",
   "name": "python3"
  },
  "language_info": {
   "name": "python",
   "version": "3.11.9"
  }
 },
 "nbformat": 4,
 "nbformat_minor": 5
}
