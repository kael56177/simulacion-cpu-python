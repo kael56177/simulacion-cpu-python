{
 "cells": [
  {
   "cell_type": "markdown",
   "id": "0d0eae9e",
   "metadata": {},
   "source": [
    "## Capítulo 04 – Simulación de instrucciones y operaciones básicas\n",
    "\n",
    "Este ejemplo interpreta una cadena con formato tipo ensamblador, como `\"sumar reg[4], memoria[3], memoria[7]\"`, la divide en partes, y realiza la operación usando listas de memoria y registros."
   ]
  },
  {
   "cell_type": "code",
   "execution_count": 1,
   "id": "7ba16da2",
   "metadata": {},
   "outputs": [
    {
     "name": "stdout",
     "output_type": "stream",
     "text": [
      "Registros:  [0, 0, 0, 0, 6, 0, 0, 0]\n"
     ]
    }
   ],
   "source": [
    "memoria = [4,6,1,2,7,8,4,4,5]               # Crea una memoria de 9 posiciones. Llénala con algunos datos\n",
    "reg = [0,0,0,0,0,0,0,0]                     # Crea un conjunto de 8 registros, todos inicializados a 0\n",
    "inst = 'sumar reg[4],memoria[3],memoria[7]' # La instrucción está almacenada como cadena\n",
    "inst1 = inst.replace(' ', ',')              # Paso 1: Reemplaza cualquier espacio por coma\n",
    "inst2 = inst1.split(',')                    # Paso 2: Divide la instrucción en tokens por coma\n",
    "token0 = inst2[0]                           # Paso 3: Obtiene el token0, la instrucción 'sumar'\n",
    "token1 = inst2[1]                           # Paso 4: Obtiene token1, registro 'reg[4]'\n",
    "token2 = inst2[2]                           # Paso 5: Obtiene token2, 'memoria[3]'\n",
    "token3 = inst2[3]                           # Paso 6: Obtiene token3, 'memoria[7]'\n",
    "valor1 = int(token1[4])                     # Paso 7: Obtiene el número de registro como entero\n",
    "valor2 = int(token2[8])                     # Paso 8: Obtiene el primer número de memoria como entero\n",
    "valor3 = int(token3[8])                     # Paso 9: Obtiene el segundo número de memoria como entero\n",
    "if token0 == 'sumar':                       # Paso 10: Prueba si la instrucción es 'sumar'\n",
    "    reg[valor1] = memoria[valor2] + memoria[valor3] # Paso 11: Suma los contenidos de memoria\n",
    "print('Registros: ', reg)"
   ]
  }
 ],
 "metadata": {
  "kernelspec": {
   "display_name": "Python 3",
   "language": "python",
   "name": "python3"
  },
  "language_info": {
   "codemirror_mode": {
    "name": "ipython",
    "version": 3
   },
   "file_extension": ".py",
   "mimetype": "text/x-python",
   "name": "python",
   "nbconvert_exporter": "python",
   "pygments_lexer": "ipython3",
   "version": "3.11.9"
  }
 },
 "nbformat": 4,
 "nbformat_minor": 5
}
