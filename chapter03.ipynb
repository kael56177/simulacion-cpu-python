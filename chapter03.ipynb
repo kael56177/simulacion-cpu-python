{
 "cells": [
  {
   "cell_type": "markdown",
   "id": "2218805a",
   "metadata": {},
   "source": [
    "## Capítulo 3 – Ciclo de Búsqueda (Fetch) en una CPU\n",
    "\n",
    "Esta simulación muestra cómo una CPU accede a la memoria, recupera una instrucción, la decodifica y prepara su ejecución. El ciclo de `fetch` implica el uso de registros como `cp`, `mar`, `mbr`, `ir` y realiza dos ciclos de ejemplo.\n"
   ]
  },
  {
   "cell_type": "code",
   "execution_count": null,
   "id": "a8c8f6f8",
   "metadata": {},
   "outputs": [
    {
     "name": "stdout",
     "output_type": "stream",
     "text": [
      "cp = 0 código-op = 6  Operando = 10\n",
      "cp = 1 código-op = 8  Operando = 255\n"
     ]
    }
   ],
   "source": [
    "# Configura la memoria y simula el ciclo de búsqueda de instrucciones\n",
    "\n",
    "memoria = [0] * 16  # 16 posiciones de memoria\n",
    "cp = 0              # Contador de programa\n",
    "\n",
    "# Dos instrucciones codificadas en binario\n",
    "memoria[0] = 0b011000001010  # Instrucción 1\n",
    "memoria[1] = 0b100011111111  # Instrucción 2\n",
    "\n",
    "def buscar(mem):\n",
    "    global cp\n",
    "    mar = cp                    # Dirección a buscar\n",
    "    cp = cp + 1                 # Incrementamos el contador de programa\n",
    "    mbr = mem[mar]              # Recuperamos instrucción de memoria\n",
    "    ir = mbr                    # Copiamos a registro de instrucción\n",
    "    uc = ir >> 8                # Código de operación (8 bits más altos)\n",
    "    direccion = ir & 0xFF       # Operando (8 bits bajos)\n",
    "    return uc, direccion\n",
    "\n",
    "# Simulación del primer ciclo de instrucción\n",
    "codigoOp, direccion = buscar(memoria)\n",
    "print('cp =', cp - 1, 'código-op =', codigoOp, ' Operando =', direccion)\n",
    "\n",
    "# Simulación del segundo ciclo de instrucción\n",
    "codigoOp, direccion = buscar(memoria)\n",
    "print('cp =', cp - 1, 'código-op =', codigoOp, ' Operando =', direccion)"
   ]
  }
 ],
 "metadata": {
  "kernelspec": {
   "display_name": "Python 3",
   "language": "python",
   "name": "python3"
  },
  "language_info": {
   "codemirror_mode": {
    "name": "ipython",
    "version": 3
   },
   "file_extension": ".py",
   "mimetype": "text/x-python",
   "name": "python",
   "nbconvert_exporter": "python",
   "pygments_lexer": "ipython3",
   "version": "3.11.9"
  }
 },
 "nbformat": 4,
 "nbformat_minor": 5
}
