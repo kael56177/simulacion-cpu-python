{
 "cells": [
  {
   "cell_type": "markdown",
   "id": "2218805a",
   "metadata": {},
   "source": [
    "## Capítulo 3 – Ciclo de Búsqueda (Fetch) en una CPU\n",
    "\n",
    "Esta simulación muestra cómo una CPU accede a la memoria, recupera una instrucción, la decodifica y prepara su ejecución. El ciclo de `fetch` implica el uso de registros como `cp`, `mar`, `mbr`, `ir` y realiza dos ciclos de ejemplo.\n"
   ]
  }
 ],
 "metadata": {
  "kernelspec": {
   "display_name": "Python 3",
   "language": "python",
   "name": "python3"
  },
  "language_info": {
   "codemirror_mode": {
    "name": "ipython",
    "version": 3
   },
   "file_extension": ".py",
   "mimetype": "text/x-python",
   "name": "python",
   "nbconvert_exporter": "python",
   "pygments_lexer": "ipython3",
   "version": "3.11.9"
  }
 },
 "nbformat": 4,
 "nbformat_minor": 5
}
